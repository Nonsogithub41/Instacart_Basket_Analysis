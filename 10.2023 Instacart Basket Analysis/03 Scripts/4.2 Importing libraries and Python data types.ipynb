{
 "cells": [
  {
   "cell_type": "markdown",
   "id": "aaeabca8",
   "metadata": {},
   "source": [
    "# table of Contents\n",
    "\n",
    "1. Import libraries\n",
    "2. Working with python Data types"
   ]
  },
  {
   "cell_type": "markdown",
   "id": "54f2be6c",
   "metadata": {},
   "source": [
    "# Import libraries"
   ]
  },
  {
   "cell_type": "code",
   "execution_count": 1,
   "id": "d6e9143f",
   "metadata": {},
   "outputs": [],
   "source": [
    "# Import libraries\n",
    "import pandas as pd\n",
    "import numpy as np\n",
    "import os"
   ]
  },
  {
   "cell_type": "markdown",
   "id": "7e72678b",
   "metadata": {},
   "source": [
    "# working with python data types"
   ]
  },
  {
   "cell_type": "code",
   "execution_count": 15,
   "id": "23285961",
   "metadata": {},
   "outputs": [
    {
     "name": "stdout",
     "output_type": "stream",
     "text": [
      "100 100 100\n"
     ]
    }
   ],
   "source": [
    "# Code to reach a result of 100\n",
    "result1 = 50 + 50  # Add two numbers\n",
    "result2 = 150 - 50 # Subtract two numbers\n",
    "result3 = (10 * 10) # multiply two numbers\n",
    "print(result1, result2, result3)\n"
   ]
  },
  {
   "cell_type": "code",
   "execution_count": 14,
   "id": "6b40dfa0",
   "metadata": {},
   "outputs": [
    {
     "name": "stdout",
     "output_type": "stream",
     "text": [
      "2.5\n"
     ]
    }
   ],
   "source": [
    "# Code to divide two floating-point variables\n",
    "num1 = 5.0\n",
    "num2 = 2.0\n",
    "division_result = num1 / num2\n",
    "print(division_result)\n"
   ]
  },
  {
   "cell_type": "code",
   "execution_count": 19,
   "id": "ac190cbe",
   "metadata": {},
   "outputs": [
    {
     "name": "stdout",
     "output_type": "stream",
     "text": [
      "Hello, World\n"
     ]
    }
   ],
   "source": [
    "# Code to construct a short word\n",
    "word = \"Hello,\" + \" \" + \"World\"\n",
    "print(word)\n"
   ]
  },
  {
   "cell_type": "code",
   "execution_count": 20,
   "id": "8485bc61",
   "metadata": {},
   "outputs": [
    {
     "name": "stdout",
     "output_type": "stream",
     "text": [
      "This is a sample sentence.\n",
      "It can be joined with another sentence.\n"
     ]
    }
   ],
   "source": [
    "# Code to construct two short sentences\n",
    "sentence1 = \"This is a sample sentence.\"\n",
    "sentence2 = \"It can be joined with another sentence.\"\n",
    "\n",
    "print(sentence1)\n",
    "print(sentence2)\n"
   ]
  },
  {
   "cell_type": "code",
   "execution_count": 21,
   "id": "87dca3aa",
   "metadata": {},
   "outputs": [
    {
     "name": "stdout",
     "output_type": "stream",
     "text": [
      "Hello, World\n"
     ]
    }
   ],
   "source": [
    "# Code to construct a short word\n",
    "a = \"Hello,\" \n",
    "b =  \" \" \n",
    "c = \"World\"\n",
    "print(a + b + c)\n"
   ]
  }
 ],
 "metadata": {
  "kernelspec": {
   "display_name": "Python 3 (ipykernel)",
   "language": "python",
   "name": "python3"
  },
  "language_info": {
   "codemirror_mode": {
    "name": "ipython",
    "version": 3
   },
   "file_extension": ".py",
   "mimetype": "text/x-python",
   "name": "python",
   "nbconvert_exporter": "python",
   "pygments_lexer": "ipython3",
   "version": "3.11.5"
  }
 },
 "nbformat": 4,
 "nbformat_minor": 5
}
