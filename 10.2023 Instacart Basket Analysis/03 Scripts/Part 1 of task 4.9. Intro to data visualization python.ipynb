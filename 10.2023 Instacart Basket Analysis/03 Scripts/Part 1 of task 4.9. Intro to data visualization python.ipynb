{
 "cells": [
  {
   "cell_type": "markdown",
   "id": "7aaae7dc",
   "metadata": {},
   "source": [
    "# Table of Contents\n",
    "\n",
    "1. Import Libraries\n",
    "2. Import Dataframe- original data- Customers\n",
    "3. Wrangle data checks for correctness\n",
    "4. Import dataframe- orders_products_merged_new\n",
    "5. Wrangle data checks for consistency\n",
    "6. merging problems\n",
    "7. Export file ( df_ords_cus_merged to sub_25percent)"
   ]
  },
  {
   "cell_type": "markdown",
   "id": "ce13763c",
   "metadata": {},
   "source": [
    "# 1. Import Libraries"
   ]
  },
  {
   "cell_type": "code",
   "execution_count": 1,
   "id": "e5a597da",
   "metadata": {},
   "outputs": [],
   "source": [
    "import pandas as pd\n",
    "import numpy as np\n",
    "import os"
   ]
  },
  {
   "cell_type": "code",
   "execution_count": 2,
   "id": "937fc048",
   "metadata": {},
   "outputs": [
    {
     "data": {
      "text/plain": [
       "'C:\\\\Users\\\\admin\\\\Desktop\\\\10.2023 Instacart Basket Analysis'"
      ]
     },
     "execution_count": 2,
     "metadata": {},
     "output_type": "execute_result"
    }
   ],
   "source": [
    "# allocate file path\n",
    "\n",
    "path = r'C:\\Users\\admin\\Desktop\\10.2023 Instacart Basket Analysis'\n",
    "\n",
    "path"
   ]
  },
  {
   "cell_type": "markdown",
   "id": "37918989",
   "metadata": {},
   "source": [
    "# 2. Import dataframe customers"
   ]
  },
  {
   "cell_type": "code",
   "execution_count": 3,
   "id": "3485461f",
   "metadata": {},
   "outputs": [],
   "source": [
    "df_cus =pd.read_csv(os.path.join(path, '02 Data','original Data', 'customers.csv'), index_col = False)"
   ]
  },
  {
   "cell_type": "markdown",
   "id": "f09e11be",
   "metadata": {},
   "source": [
    "# step 3, wrangle data check for consistency"
   ]
  },
  {
   "cell_type": "code",
   "execution_count": 4,
   "id": "9e3dc0ff",
   "metadata": {},
   "outputs": [
    {
     "data": {
      "text/plain": [
       "Index(['user_id', 'First Name', 'Surnam', 'Gender', 'STATE', 'Age',\n",
       "       'date_joined', 'n_dependants', 'fam_status', 'income'],\n",
       "      dtype='object')"
      ]
     },
     "execution_count": 4,
     "metadata": {},
     "output_type": "execute_result"
    }
   ],
   "source": [
    "df_cus.columns"
   ]
  },
  {
   "cell_type": "code",
   "execution_count": 5,
   "id": "d8ee8a7b",
   "metadata": {
    "scrolled": true
   },
   "outputs": [
    {
     "data": {
      "text/html": [
       "<div>\n",
       "<style scoped>\n",
       "    .dataframe tbody tr th:only-of-type {\n",
       "        vertical-align: middle;\n",
       "    }\n",
       "\n",
       "    .dataframe tbody tr th {\n",
       "        vertical-align: top;\n",
       "    }\n",
       "\n",
       "    .dataframe thead th {\n",
       "        text-align: right;\n",
       "    }\n",
       "</style>\n",
       "<table border=\"1\" class=\"dataframe\">\n",
       "  <thead>\n",
       "    <tr style=\"text-align: right;\">\n",
       "      <th></th>\n",
       "      <th>user_id</th>\n",
       "      <th>First Name</th>\n",
       "      <th>Surnam</th>\n",
       "      <th>Gender</th>\n",
       "      <th>STATE</th>\n",
       "      <th>Age</th>\n",
       "      <th>date_joined</th>\n",
       "      <th>n_dependants</th>\n",
       "      <th>fam_status</th>\n",
       "      <th>income</th>\n",
       "    </tr>\n",
       "  </thead>\n",
       "  <tbody>\n",
       "    <tr>\n",
       "      <th>0</th>\n",
       "      <td>26711</td>\n",
       "      <td>Deborah</td>\n",
       "      <td>Esquivel</td>\n",
       "      <td>Female</td>\n",
       "      <td>Missouri</td>\n",
       "      <td>48</td>\n",
       "      <td>1/1/2017</td>\n",
       "      <td>3</td>\n",
       "      <td>married</td>\n",
       "      <td>165665</td>\n",
       "    </tr>\n",
       "    <tr>\n",
       "      <th>1</th>\n",
       "      <td>33890</td>\n",
       "      <td>Patricia</td>\n",
       "      <td>Hart</td>\n",
       "      <td>Female</td>\n",
       "      <td>New Mexico</td>\n",
       "      <td>36</td>\n",
       "      <td>1/1/2017</td>\n",
       "      <td>0</td>\n",
       "      <td>single</td>\n",
       "      <td>59285</td>\n",
       "    </tr>\n",
       "    <tr>\n",
       "      <th>2</th>\n",
       "      <td>65803</td>\n",
       "      <td>Kenneth</td>\n",
       "      <td>Farley</td>\n",
       "      <td>Male</td>\n",
       "      <td>Idaho</td>\n",
       "      <td>35</td>\n",
       "      <td>1/1/2017</td>\n",
       "      <td>2</td>\n",
       "      <td>married</td>\n",
       "      <td>99568</td>\n",
       "    </tr>\n",
       "    <tr>\n",
       "      <th>3</th>\n",
       "      <td>125935</td>\n",
       "      <td>Michelle</td>\n",
       "      <td>Hicks</td>\n",
       "      <td>Female</td>\n",
       "      <td>Iowa</td>\n",
       "      <td>40</td>\n",
       "      <td>1/1/2017</td>\n",
       "      <td>0</td>\n",
       "      <td>single</td>\n",
       "      <td>42049</td>\n",
       "    </tr>\n",
       "    <tr>\n",
       "      <th>4</th>\n",
       "      <td>130797</td>\n",
       "      <td>Ann</td>\n",
       "      <td>Gilmore</td>\n",
       "      <td>Female</td>\n",
       "      <td>Maryland</td>\n",
       "      <td>26</td>\n",
       "      <td>1/1/2017</td>\n",
       "      <td>1</td>\n",
       "      <td>married</td>\n",
       "      <td>40374</td>\n",
       "    </tr>\n",
       "  </tbody>\n",
       "</table>\n",
       "</div>"
      ],
      "text/plain": [
       "   user_id First Name    Surnam  Gender       STATE  Age date_joined  \\\n",
       "0    26711    Deborah  Esquivel  Female    Missouri   48    1/1/2017   \n",
       "1    33890   Patricia      Hart  Female  New Mexico   36    1/1/2017   \n",
       "2    65803    Kenneth    Farley    Male       Idaho   35    1/1/2017   \n",
       "3   125935   Michelle     Hicks  Female        Iowa   40    1/1/2017   \n",
       "4   130797        Ann   Gilmore  Female    Maryland   26    1/1/2017   \n",
       "\n",
       "   n_dependants fam_status  income  \n",
       "0             3    married  165665  \n",
       "1             0     single   59285  \n",
       "2             2    married   99568  \n",
       "3             0     single   42049  \n",
       "4             1    married   40374  "
      ]
     },
     "execution_count": 5,
     "metadata": {},
     "output_type": "execute_result"
    }
   ],
   "source": [
    "df_cus.head()"
   ]
  },
  {
   "cell_type": "code",
   "execution_count": 6,
   "id": "dd8e7421",
   "metadata": {},
   "outputs": [
    {
     "data": {
      "text/plain": [
       "(206209, 10)"
      ]
     },
     "execution_count": 6,
     "metadata": {},
     "output_type": "execute_result"
    }
   ],
   "source": [
    "df_cus.shape"
   ]
  },
  {
   "cell_type": "code",
   "execution_count": 7,
   "id": "aa0a53eb",
   "metadata": {
    "scrolled": true
   },
   "outputs": [
    {
     "data": {
      "text/html": [
       "<div>\n",
       "<style scoped>\n",
       "    .dataframe tbody tr th:only-of-type {\n",
       "        vertical-align: middle;\n",
       "    }\n",
       "\n",
       "    .dataframe tbody tr th {\n",
       "        vertical-align: top;\n",
       "    }\n",
       "\n",
       "    .dataframe thead th {\n",
       "        text-align: right;\n",
       "    }\n",
       "</style>\n",
       "<table border=\"1\" class=\"dataframe\">\n",
       "  <thead>\n",
       "    <tr style=\"text-align: right;\">\n",
       "      <th></th>\n",
       "      <th>user_id</th>\n",
       "      <th>Age</th>\n",
       "      <th>n_dependants</th>\n",
       "      <th>income</th>\n",
       "    </tr>\n",
       "  </thead>\n",
       "  <tbody>\n",
       "    <tr>\n",
       "      <th>count</th>\n",
       "      <td>206209.000000</td>\n",
       "      <td>206209.000000</td>\n",
       "      <td>206209.000000</td>\n",
       "      <td>206209.000000</td>\n",
       "    </tr>\n",
       "    <tr>\n",
       "      <th>mean</th>\n",
       "      <td>103105.000000</td>\n",
       "      <td>49.501646</td>\n",
       "      <td>1.499823</td>\n",
       "      <td>94632.852548</td>\n",
       "    </tr>\n",
       "    <tr>\n",
       "      <th>std</th>\n",
       "      <td>59527.555167</td>\n",
       "      <td>18.480962</td>\n",
       "      <td>1.118433</td>\n",
       "      <td>42473.786988</td>\n",
       "    </tr>\n",
       "    <tr>\n",
       "      <th>min</th>\n",
       "      <td>1.000000</td>\n",
       "      <td>18.000000</td>\n",
       "      <td>0.000000</td>\n",
       "      <td>25903.000000</td>\n",
       "    </tr>\n",
       "    <tr>\n",
       "      <th>25%</th>\n",
       "      <td>51553.000000</td>\n",
       "      <td>33.000000</td>\n",
       "      <td>0.000000</td>\n",
       "      <td>59874.000000</td>\n",
       "    </tr>\n",
       "    <tr>\n",
       "      <th>50%</th>\n",
       "      <td>103105.000000</td>\n",
       "      <td>49.000000</td>\n",
       "      <td>1.000000</td>\n",
       "      <td>93547.000000</td>\n",
       "    </tr>\n",
       "    <tr>\n",
       "      <th>75%</th>\n",
       "      <td>154657.000000</td>\n",
       "      <td>66.000000</td>\n",
       "      <td>3.000000</td>\n",
       "      <td>124244.000000</td>\n",
       "    </tr>\n",
       "    <tr>\n",
       "      <th>max</th>\n",
       "      <td>206209.000000</td>\n",
       "      <td>81.000000</td>\n",
       "      <td>3.000000</td>\n",
       "      <td>593901.000000</td>\n",
       "    </tr>\n",
       "  </tbody>\n",
       "</table>\n",
       "</div>"
      ],
      "text/plain": [
       "             user_id            Age   n_dependants         income\n",
       "count  206209.000000  206209.000000  206209.000000  206209.000000\n",
       "mean   103105.000000      49.501646       1.499823   94632.852548\n",
       "std     59527.555167      18.480962       1.118433   42473.786988\n",
       "min         1.000000      18.000000       0.000000   25903.000000\n",
       "25%     51553.000000      33.000000       0.000000   59874.000000\n",
       "50%    103105.000000      49.000000       1.000000   93547.000000\n",
       "75%    154657.000000      66.000000       3.000000  124244.000000\n",
       "max    206209.000000      81.000000       3.000000  593901.000000"
      ]
     },
     "execution_count": 7,
     "metadata": {},
     "output_type": "execute_result"
    }
   ],
   "source": [
    "df_cus.describe()"
   ]
  },
  {
   "cell_type": "code",
   "execution_count": 8,
   "id": "de3c9902",
   "metadata": {},
   "outputs": [],
   "source": [
    "# dropping columns from customers.csv\n",
    "\n",
    "df_cus =df_cus.drop(columns = ['First Name', 'Surnam', 'Gender', 'date_joined'])"
   ]
  },
  {
   "cell_type": "code",
   "execution_count": 9,
   "id": "df188042",
   "metadata": {},
   "outputs": [
    {
     "data": {
      "text/plain": [
       "Index(['user_id', 'STATE', 'Age', 'n_dependants', 'fam_status', 'income'], dtype='object')"
      ]
     },
     "execution_count": 9,
     "metadata": {},
     "output_type": "execute_result"
    }
   ],
   "source": [
    "df_cus.columns"
   ]
  },
  {
   "cell_type": "code",
   "execution_count": 10,
   "id": "cb875232",
   "metadata": {},
   "outputs": [
    {
     "data": {
      "text/plain": [
       "user_id         0\n",
       "STATE           0\n",
       "Age             0\n",
       "n_dependants    0\n",
       "fam_status      0\n",
       "income          0\n",
       "dtype: int64"
      ]
     },
     "execution_count": 10,
     "metadata": {},
     "output_type": "execute_result"
    }
   ],
   "source": [
    "#find missing values. There are no missing values. \n",
    "\n",
    "df_cus.isnull().sum()"
   ]
  },
  {
   "cell_type": "code",
   "execution_count": 11,
   "id": "889293d5",
   "metadata": {},
   "outputs": [],
   "source": [
    "## Renaming column names\n",
    "\n",
    "df_cus.rename(columns = {'n_dependants' : 'number_of_dependants'}, inplace = True)"
   ]
  },
  {
   "cell_type": "code",
   "execution_count": 12,
   "id": "e4f7e8da",
   "metadata": {},
   "outputs": [
    {
     "data": {
      "text/plain": [
       "Index(['user_id', 'STATE', 'Age', 'number_of_dependants', 'fam_status',\n",
       "       'income'],\n",
       "      dtype='object')"
      ]
     },
     "execution_count": 12,
     "metadata": {},
     "output_type": "execute_result"
    }
   ],
   "source": [
    "df_cus.columns"
   ]
  },
  {
   "cell_type": "code",
   "execution_count": 13,
   "id": "63132b4e",
   "metadata": {},
   "outputs": [],
   "source": [
    "## check for mix types\n",
    "\n",
    "for col in df_cus.columns.tolist():\n",
    "  weird = (df_cus[[col]].applymap(type) != df_cus[[col]].iloc[0].apply(type)).any(axis = 1)\n",
    "  if len (df_cus[weird]) > 0:\n",
    "    print (col)\n",
    "    \n",
    "# no mixed-type data was found. "
   ]
  },
  {
   "cell_type": "code",
   "execution_count": 14,
   "id": "4230f7c2",
   "metadata": {},
   "outputs": [
    {
     "name": "stdout",
     "output_type": "stream",
     "text": [
      "<class 'pandas.core.frame.DataFrame'>\n",
      "RangeIndex: 206209 entries, 0 to 206208\n",
      "Data columns (total 6 columns):\n",
      " #   Column                Non-Null Count   Dtype \n",
      "---  ------                --------------   ----- \n",
      " 0   user_id               206209 non-null  int64 \n",
      " 1   STATE                 206209 non-null  object\n",
      " 2   Age                   206209 non-null  int64 \n",
      " 3   number_of_dependants  206209 non-null  int64 \n",
      " 4   fam_status            206209 non-null  object\n",
      " 5   income                206209 non-null  int64 \n",
      "dtypes: int64(4), object(2)\n",
      "memory usage: 9.4+ MB\n"
     ]
    }
   ],
   "source": [
    "# checking for datatypes\n",
    "\n",
    "df_cus.info()"
   ]
  },
  {
   "cell_type": "code",
   "execution_count": 15,
   "id": "c5201030",
   "metadata": {},
   "outputs": [],
   "source": [
    "## change the data types of the columns from int64 to int8\n",
    "\n",
    "df_cus['user_id'] = df_cus['user_id'].astype('int32')\n",
    "df_cus['Age'] = df_cus['Age'].astype('int32')\n",
    "df_cus['number_of_dependants'] = df_cus['number_of_dependants'].astype('int32')\n",
    "df_cus['income'] = df_cus['income'].astype('int32')"
   ]
  },
  {
   "cell_type": "code",
   "execution_count": 16,
   "id": "e61e59a3",
   "metadata": {
    "scrolled": false
   },
   "outputs": [
    {
     "name": "stdout",
     "output_type": "stream",
     "text": [
      "<class 'pandas.core.frame.DataFrame'>\n",
      "RangeIndex: 206209 entries, 0 to 206208\n",
      "Data columns (total 6 columns):\n",
      " #   Column                Non-Null Count   Dtype \n",
      "---  ------                --------------   ----- \n",
      " 0   user_id               206209 non-null  int32 \n",
      " 1   STATE                 206209 non-null  object\n",
      " 2   Age                   206209 non-null  int32 \n",
      " 3   number_of_dependants  206209 non-null  int32 \n",
      " 4   fam_status            206209 non-null  object\n",
      " 5   income                206209 non-null  int32 \n",
      "dtypes: int32(4), object(2)\n",
      "memory usage: 6.3+ MB\n"
     ]
    }
   ],
   "source": [
    "## check for result\n",
    "\n",
    "df_cus.info()"
   ]
  },
  {
   "cell_type": "code",
   "execution_count": 17,
   "id": "ab22ca28",
   "metadata": {},
   "outputs": [],
   "source": [
    "# check for full duplicates within dataframe\n",
    "\n",
    "df_dups = df_cus[df_cus.duplicated()]"
   ]
  },
  {
   "cell_type": "code",
   "execution_count": 18,
   "id": "eb1a1e3c",
   "metadata": {},
   "outputs": [
    {
     "data": {
      "text/html": [
       "<div>\n",
       "<style scoped>\n",
       "    .dataframe tbody tr th:only-of-type {\n",
       "        vertical-align: middle;\n",
       "    }\n",
       "\n",
       "    .dataframe tbody tr th {\n",
       "        vertical-align: top;\n",
       "    }\n",
       "\n",
       "    .dataframe thead th {\n",
       "        text-align: right;\n",
       "    }\n",
       "</style>\n",
       "<table border=\"1\" class=\"dataframe\">\n",
       "  <thead>\n",
       "    <tr style=\"text-align: right;\">\n",
       "      <th></th>\n",
       "      <th>user_id</th>\n",
       "      <th>STATE</th>\n",
       "      <th>Age</th>\n",
       "      <th>number_of_dependants</th>\n",
       "      <th>fam_status</th>\n",
       "      <th>income</th>\n",
       "    </tr>\n",
       "  </thead>\n",
       "  <tbody>\n",
       "  </tbody>\n",
       "</table>\n",
       "</div>"
      ],
      "text/plain": [
       "Empty DataFrame\n",
       "Columns: [user_id, STATE, Age, number_of_dependants, fam_status, income]\n",
       "Index: []"
      ]
     },
     "execution_count": 18,
     "metadata": {},
     "output_type": "execute_result"
    }
   ],
   "source": [
    "df_dups "
   ]
  },
  {
   "cell_type": "code",
   "execution_count": 19,
   "id": "8ec3e350",
   "metadata": {},
   "outputs": [
    {
     "data": {
      "text/plain": [
       "(206209, 6)"
      ]
     },
     "execution_count": 19,
     "metadata": {},
     "output_type": "execute_result"
    }
   ],
   "source": [
    "# check the current number of rows in the original dataframe(before deleting duplicates)\n",
    "\n",
    "df_cus.shape"
   ]
  },
  {
   "cell_type": "code",
   "execution_count": 20,
   "id": "096e254a",
   "metadata": {},
   "outputs": [],
   "source": [
    "# create a new dataframe that doesnt include duplicates and use drop_duplicate function to delete\n",
    "\n",
    "df_cus_clean = df_cus.drop_duplicates()"
   ]
  },
  {
   "cell_type": "code",
   "execution_count": 21,
   "id": "a4f1614c",
   "metadata": {},
   "outputs": [
    {
     "data": {
      "text/plain": [
       "(206209, 6)"
      ]
     },
     "execution_count": 21,
     "metadata": {},
     "output_type": "execute_result"
    }
   ],
   "source": [
    "# check for results in new dataframe\n",
    "\n",
    "df_cus_clean.shape"
   ]
  },
  {
   "cell_type": "markdown",
   "id": "bb11976c",
   "metadata": {},
   "source": [
    "# 4. import prepared instacart data for combining"
   ]
  },
  {
   "cell_type": "code",
   "execution_count": 22,
   "id": "e22b2243",
   "metadata": {},
   "outputs": [],
   "source": [
    " ## Import and load 'products' dataset stored in 'prepared data folder'\n",
    "ords_prods_merge = pd.read_pickle(os.path.join(path, '02 Data', 'prepared data', 'orders_products_merged_new.pkl'))"
   ]
  },
  {
   "cell_type": "markdown",
   "id": "a8b8b383",
   "metadata": {},
   "source": [
    "# 5. Wrangle data checks for consistency"
   ]
  },
  {
   "cell_type": "code",
   "execution_count": 23,
   "id": "c053b4cf",
   "metadata": {},
   "outputs": [
    {
     "data": {
      "text/html": [
       "<div>\n",
       "<style scoped>\n",
       "    .dataframe tbody tr th:only-of-type {\n",
       "        vertical-align: middle;\n",
       "    }\n",
       "\n",
       "    .dataframe tbody tr th {\n",
       "        vertical-align: top;\n",
       "    }\n",
       "\n",
       "    .dataframe thead th {\n",
       "        text-align: right;\n",
       "    }\n",
       "</style>\n",
       "<table border=\"1\" class=\"dataframe\">\n",
       "  <thead>\n",
       "    <tr style=\"text-align: right;\">\n",
       "      <th></th>\n",
       "      <th>order_id</th>\n",
       "      <th>user_id</th>\n",
       "      <th>order_number</th>\n",
       "      <th>orders_day_of_week</th>\n",
       "      <th>order_hour</th>\n",
       "      <th>days_since_prior_order</th>\n",
       "      <th>product_id</th>\n",
       "      <th>add_to_cart_order</th>\n",
       "      <th>reordered</th>\n",
       "      <th>product_name</th>\n",
       "      <th>...</th>\n",
       "      <th>busiest day</th>\n",
       "      <th>busiest_day</th>\n",
       "      <th>busiest_slowest_days</th>\n",
       "      <th>busiest_period_of_day</th>\n",
       "      <th>max_order</th>\n",
       "      <th>loyalty_flag</th>\n",
       "      <th>average_price</th>\n",
       "      <th>spender_flag</th>\n",
       "      <th>median_days_since_prior_order</th>\n",
       "      <th>order_frequency_flag</th>\n",
       "    </tr>\n",
       "  </thead>\n",
       "  <tbody>\n",
       "    <tr>\n",
       "      <th>0</th>\n",
       "      <td>2539329</td>\n",
       "      <td>1</td>\n",
       "      <td>1</td>\n",
       "      <td>2</td>\n",
       "      <td>8</td>\n",
       "      <td>7.0</td>\n",
       "      <td>196</td>\n",
       "      <td>1</td>\n",
       "      <td>0</td>\n",
       "      <td>Soda</td>\n",
       "      <td>...</td>\n",
       "      <td>Regularly busy</td>\n",
       "      <td>Regularly busy</td>\n",
       "      <td>Regularly busy</td>\n",
       "      <td>Average orders</td>\n",
       "      <td>10</td>\n",
       "      <td>New customer</td>\n",
       "      <td>6.367797</td>\n",
       "      <td>Low spender</td>\n",
       "      <td>20.0</td>\n",
       "      <td>Regular customer</td>\n",
       "    </tr>\n",
       "    <tr>\n",
       "      <th>1</th>\n",
       "      <td>2398795</td>\n",
       "      <td>1</td>\n",
       "      <td>2</td>\n",
       "      <td>3</td>\n",
       "      <td>7</td>\n",
       "      <td>15.0</td>\n",
       "      <td>196</td>\n",
       "      <td>1</td>\n",
       "      <td>1</td>\n",
       "      <td>Soda</td>\n",
       "      <td>...</td>\n",
       "      <td>Regularly busy</td>\n",
       "      <td>Regularly busy</td>\n",
       "      <td>Slowest days</td>\n",
       "      <td>Average orders</td>\n",
       "      <td>10</td>\n",
       "      <td>New customer</td>\n",
       "      <td>6.367797</td>\n",
       "      <td>Low spender</td>\n",
       "      <td>20.0</td>\n",
       "      <td>Regular customer</td>\n",
       "    </tr>\n",
       "    <tr>\n",
       "      <th>2</th>\n",
       "      <td>473747</td>\n",
       "      <td>1</td>\n",
       "      <td>3</td>\n",
       "      <td>3</td>\n",
       "      <td>12</td>\n",
       "      <td>21.0</td>\n",
       "      <td>196</td>\n",
       "      <td>1</td>\n",
       "      <td>1</td>\n",
       "      <td>Soda</td>\n",
       "      <td>...</td>\n",
       "      <td>Regularly busy</td>\n",
       "      <td>Regularly busy</td>\n",
       "      <td>Slowest days</td>\n",
       "      <td>Most orders</td>\n",
       "      <td>10</td>\n",
       "      <td>New customer</td>\n",
       "      <td>6.367797</td>\n",
       "      <td>Low spender</td>\n",
       "      <td>20.0</td>\n",
       "      <td>Regular customer</td>\n",
       "    </tr>\n",
       "    <tr>\n",
       "      <th>3</th>\n",
       "      <td>2254736</td>\n",
       "      <td>1</td>\n",
       "      <td>4</td>\n",
       "      <td>4</td>\n",
       "      <td>7</td>\n",
       "      <td>29.0</td>\n",
       "      <td>196</td>\n",
       "      <td>1</td>\n",
       "      <td>1</td>\n",
       "      <td>Soda</td>\n",
       "      <td>...</td>\n",
       "      <td>Least busy</td>\n",
       "      <td>Least busy</td>\n",
       "      <td>Slowest days</td>\n",
       "      <td>Average orders</td>\n",
       "      <td>10</td>\n",
       "      <td>New customer</td>\n",
       "      <td>6.367797</td>\n",
       "      <td>Low spender</td>\n",
       "      <td>20.0</td>\n",
       "      <td>Regular customer</td>\n",
       "    </tr>\n",
       "    <tr>\n",
       "      <th>4</th>\n",
       "      <td>431534</td>\n",
       "      <td>1</td>\n",
       "      <td>5</td>\n",
       "      <td>4</td>\n",
       "      <td>15</td>\n",
       "      <td>28.0</td>\n",
       "      <td>196</td>\n",
       "      <td>1</td>\n",
       "      <td>1</td>\n",
       "      <td>Soda</td>\n",
       "      <td>...</td>\n",
       "      <td>Least busy</td>\n",
       "      <td>Least busy</td>\n",
       "      <td>Slowest days</td>\n",
       "      <td>Most orders</td>\n",
       "      <td>10</td>\n",
       "      <td>New customer</td>\n",
       "      <td>6.367797</td>\n",
       "      <td>Low spender</td>\n",
       "      <td>20.0</td>\n",
       "      <td>Regular customer</td>\n",
       "    </tr>\n",
       "  </tbody>\n",
       "</table>\n",
       "<p>5 rows × 25 columns</p>\n",
       "</div>"
      ],
      "text/plain": [
       "   order_id  user_id  order_number  orders_day_of_week  order_hour  \\\n",
       "0   2539329        1             1                   2           8   \n",
       "1   2398795        1             2                   3           7   \n",
       "2    473747        1             3                   3          12   \n",
       "3   2254736        1             4                   4           7   \n",
       "4    431534        1             5                   4          15   \n",
       "\n",
       "   days_since_prior_order  product_id  add_to_cart_order  reordered  \\\n",
       "0                     7.0         196                  1          0   \n",
       "1                    15.0         196                  1          1   \n",
       "2                    21.0         196                  1          1   \n",
       "3                    29.0         196                  1          1   \n",
       "4                    28.0         196                  1          1   \n",
       "\n",
       "  product_name  ...     busiest day     busiest_day  busiest_slowest_days  \\\n",
       "0         Soda  ...  Regularly busy  Regularly busy        Regularly busy   \n",
       "1         Soda  ...  Regularly busy  Regularly busy          Slowest days   \n",
       "2         Soda  ...  Regularly busy  Regularly busy          Slowest days   \n",
       "3         Soda  ...      Least busy      Least busy          Slowest days   \n",
       "4         Soda  ...      Least busy      Least busy          Slowest days   \n",
       "\n",
       "  busiest_period_of_day max_order  loyalty_flag average_price spender_flag  \\\n",
       "0        Average orders        10  New customer      6.367797  Low spender   \n",
       "1        Average orders        10  New customer      6.367797  Low spender   \n",
       "2           Most orders        10  New customer      6.367797  Low spender   \n",
       "3        Average orders        10  New customer      6.367797  Low spender   \n",
       "4           Most orders        10  New customer      6.367797  Low spender   \n",
       "\n",
       "  median_days_since_prior_order  order_frequency_flag  \n",
       "0                          20.0      Regular customer  \n",
       "1                          20.0      Regular customer  \n",
       "2                          20.0      Regular customer  \n",
       "3                          20.0      Regular customer  \n",
       "4                          20.0      Regular customer  \n",
       "\n",
       "[5 rows x 25 columns]"
      ]
     },
     "execution_count": 23,
     "metadata": {},
     "output_type": "execute_result"
    }
   ],
   "source": [
    "# check the output\n",
    "\n",
    "ords_prods_merge.head()"
   ]
  },
  {
   "cell_type": "code",
   "execution_count": 24,
   "id": "3af1f077",
   "metadata": {},
   "outputs": [
    {
     "name": "stdout",
     "output_type": "stream",
     "text": [
      "<class 'pandas.core.frame.DataFrame'>\n",
      "RangeIndex: 32404859 entries, 0 to 32404858\n",
      "Data columns (total 25 columns):\n",
      " #   Column                         Dtype   \n",
      "---  ------                         -----   \n",
      " 0   order_id                       int32   \n",
      " 1   user_id                        int32   \n",
      " 2   order_number                   int8    \n",
      " 3   orders_day_of_week             int8    \n",
      " 4   order_hour                     int8    \n",
      " 5   days_since_prior_order         float16 \n",
      " 6   product_id                     int32   \n",
      " 7   add_to_cart_order              int32   \n",
      " 8   reordered                      int8    \n",
      " 9   product_name                   object  \n",
      " 10  aisle_id                       int8    \n",
      " 11  department_id                  int8    \n",
      " 12  prices                         float64 \n",
      " 13  _merge                         category\n",
      " 14  price_range_loc                object  \n",
      " 15  busiest day                    object  \n",
      " 16  busiest_day                    object  \n",
      " 17  busiest_slowest_days           object  \n",
      " 18  busiest_period_of_day          object  \n",
      " 19  max_order                      int8    \n",
      " 20  loyalty_flag                   object  \n",
      " 21  average_price                  float64 \n",
      " 22  spender_flag                   object  \n",
      " 23  median_days_since_prior_order  float16 \n",
      " 24  order_frequency_flag           object  \n",
      "dtypes: category(1), float16(2), float64(2), int32(4), int8(7), object(9)\n",
      "memory usage: 3.5+ GB\n"
     ]
    }
   ],
   "source": [
    "# Check output to see memory usage\n",
    "\n",
    "ords_prods_merge.info()"
   ]
  },
  {
   "cell_type": "code",
   "execution_count": 25,
   "id": "97018177",
   "metadata": {},
   "outputs": [
    {
     "name": "stderr",
     "output_type": "stream",
     "text": [
      "C:\\Users\\admin\\anaconda3\\Lib\\site-packages\\pandas\\core\\dtypes\\astype.py:138: RuntimeWarning: overflow encountered in cast\n",
      "  return arr.astype(dtype, copy=True)\n"
     ]
    }
   ],
   "source": [
    "# Change types for ords prods merged data set \n",
    "\n",
    "ords_prods_merge['order_id'] =ords_prods_merge['order_id'].astype('int8')\n",
    "ords_prods_merge['user_id'] =ords_prods_merge['user_id'].astype('int8')\n",
    "ords_prods_merge['product_id'] =ords_prods_merge['product_id'].astype('int8')\n",
    "ords_prods_merge['add_to_cart_order'] =ords_prods_merge['add_to_cart_order'].astype('int8')\n",
    "ords_prods_merge['prices'] =ords_prods_merge['prices'].astype('float16')\n",
    "ords_prods_merge['average_price'] = ords_prods_merge['average_price'].astype('float16')"
   ]
  },
  {
   "cell_type": "code",
   "execution_count": 26,
   "id": "5e8ba3c7",
   "metadata": {},
   "outputs": [],
   "source": [
    "# dropping columns from ords_prods_merge\n",
    "\n",
    "ords_prods_merge =ords_prods_merge.drop(columns = ['_merge'])"
   ]
  },
  {
   "cell_type": "code",
   "execution_count": 27,
   "id": "4e58dcf1",
   "metadata": {},
   "outputs": [],
   "source": [
    "ords_prods_new=ords_prods_merge"
   ]
  },
  {
   "cell_type": "markdown",
   "id": "223cf7b5",
   "metadata": {},
   "source": [
    "# 6. merging problem\n",
    "\n",
    "I experienced some merging issues because of memory error problem.\n",
    "It was necessary to perform the merge in another system\n",
    "Below are just indications of steps i would have followed had i performed to merge here."
   ]
  },
  {
   "cell_type": "code",
   "execution_count": null,
   "id": "349ac58b",
   "metadata": {},
   "outputs": [],
   "source": [
    "# attempt to merge the two dataframe together\n",
    "\n",
    "df_ords_cus_prods = df_cus_clean.merge(ords_prods_new, on=['user_id'], how='inner', indicator= True)"
   ]
  },
  {
   "cell_type": "code",
   "execution_count": null,
   "id": "1221cb5c",
   "metadata": {},
   "outputs": [],
   "source": [
    "# check to see the output\n",
    "df_ords_cus_prods"
   ]
  },
  {
   "cell_type": "code",
   "execution_count": null,
   "id": "917f73d0",
   "metadata": {},
   "outputs": [],
   "source": [
    "# onfirming the results of the merge using the merge flag\n",
    "\n",
    "df_ords_cus_prods['_merge'].value_counts(dropna = False)"
   ]
  },
  {
   "cell_type": "code",
   "execution_count": null,
   "id": "0896636f",
   "metadata": {},
   "outputs": [],
   "source": [
    "# check the shape of the merged dataframe\n",
    "\n",
    "ords_cus_prods.shape"
   ]
  },
  {
   "cell_type": "markdown",
   "id": "5c6e4e25",
   "metadata": {},
   "source": [
    "# Export file from df_ords_cus_merged to sub_25percent"
   ]
  },
  {
   "cell_type": "code",
   "execution_count": null,
   "id": "85960b06",
   "metadata": {},
   "outputs": [],
   "source": [
    "# Export file to pickle (with consideration of size)\n",
    "ords_cus_prods.to_pickle(os.path.join(path, '02 Data', 'Prepared Data', 'df_ords_cus_merged.pkl'))"
   ]
  }
 ],
 "metadata": {
  "kernelspec": {
   "display_name": "Python 3 (ipykernel)",
   "language": "python",
   "name": "python3"
  },
  "language_info": {
   "codemirror_mode": {
    "name": "ipython",
    "version": 3
   },
   "file_extension": ".py",
   "mimetype": "text/x-python",
   "name": "python",
   "nbconvert_exporter": "python",
   "pygments_lexer": "ipython3",
   "version": "3.11.5"
  }
 },
 "nbformat": 4,
 "nbformat_minor": 5
}
